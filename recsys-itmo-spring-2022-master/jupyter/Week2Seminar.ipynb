{
 "cells": [
  {
   "cell_type": "code",
   "execution_count": 1,
   "metadata": {
    "tags": []
   },
   "outputs": [],
   "source": [
    "import json\n",
    "import random\n",
    "from collections import namedtuple\n",
    "\n",
    "import pandas as pd\n",
    "import numpy as np\n",
    "import scipy.stats as ss\n",
    "\n",
    "import matplotlib.pyplot as plt\n",
    "\n",
    "%matplotlib inline"
   ]
  },
  {
   "cell_type": "code",
   "execution_count": 2,
   "metadata": {},
   "outputs": [
    {
     "data": {
      "text/html": [
       "<div>\n",
       "<style scoped>\n",
       "    .dataframe tbody tr th:only-of-type {\n",
       "        vertical-align: middle;\n",
       "    }\n",
       "\n",
       "    .dataframe tbody tr th {\n",
       "        vertical-align: top;\n",
       "    }\n",
       "\n",
       "    .dataframe thead th {\n",
       "        text-align: right;\n",
       "    }\n",
       "</style>\n",
       "<table border=\"1\" class=\"dataframe\">\n",
       "  <thead>\n",
       "    <tr style=\"text-align: right;\">\n",
       "      <th></th>\n",
       "      <th>message</th>\n",
       "      <th>timestamp</th>\n",
       "      <th>user</th>\n",
       "      <th>track</th>\n",
       "      <th>time</th>\n",
       "      <th>latency</th>\n",
       "      <th>recommendation</th>\n",
       "      <th>experiments</th>\n",
       "      <th>rnd</th>\n",
       "    </tr>\n",
       "  </thead>\n",
       "  <tbody>\n",
       "    <tr>\n",
       "      <th>0</th>\n",
       "      <td>next</td>\n",
       "      <td>2022-02-28 08:57:07.615</td>\n",
       "      <td>3255</td>\n",
       "      <td>2659</td>\n",
       "      <td>1.00</td>\n",
       "      <td>0.000844</td>\n",
       "      <td>37339.0</td>\n",
       "      <td>{'AA': 'C'}</td>\n",
       "      <td>0.455708</td>\n",
       "    </tr>\n",
       "    <tr>\n",
       "      <th>1</th>\n",
       "      <td>next</td>\n",
       "      <td>2022-02-28 08:57:07.623</td>\n",
       "      <td>3255</td>\n",
       "      <td>37339</td>\n",
       "      <td>0.19</td>\n",
       "      <td>0.000575</td>\n",
       "      <td>716.0</td>\n",
       "      <td>{'AA': 'C'}</td>\n",
       "      <td>0.357232</td>\n",
       "    </tr>\n",
       "    <tr>\n",
       "      <th>2</th>\n",
       "      <td>next</td>\n",
       "      <td>2022-02-28 08:57:07.632</td>\n",
       "      <td>3255</td>\n",
       "      <td>716</td>\n",
       "      <td>0.09</td>\n",
       "      <td>0.000542</td>\n",
       "      <td>47125.0</td>\n",
       "      <td>{'AA': 'C'}</td>\n",
       "      <td>0.990345</td>\n",
       "    </tr>\n",
       "    <tr>\n",
       "      <th>3</th>\n",
       "      <td>next</td>\n",
       "      <td>2022-02-28 08:57:07.639</td>\n",
       "      <td>3255</td>\n",
       "      <td>47125</td>\n",
       "      <td>0.01</td>\n",
       "      <td>0.000591</td>\n",
       "      <td>22144.0</td>\n",
       "      <td>{'AA': 'C'}</td>\n",
       "      <td>0.764251</td>\n",
       "    </tr>\n",
       "    <tr>\n",
       "      <th>4</th>\n",
       "      <td>next</td>\n",
       "      <td>2022-02-28 08:57:07.646</td>\n",
       "      <td>3255</td>\n",
       "      <td>22144</td>\n",
       "      <td>0.03</td>\n",
       "      <td>0.000538</td>\n",
       "      <td>33057.0</td>\n",
       "      <td>{'AA': 'C'}</td>\n",
       "      <td>0.035511</td>\n",
       "    </tr>\n",
       "  </tbody>\n",
       "</table>\n",
       "</div>"
      ],
      "text/plain": [
       "  message               timestamp  user  track  time   latency  \\\n",
       "0    next 2022-02-28 08:57:07.615  3255   2659  1.00  0.000844   \n",
       "1    next 2022-02-28 08:57:07.623  3255  37339  0.19  0.000575   \n",
       "2    next 2022-02-28 08:57:07.632  3255    716  0.09  0.000542   \n",
       "3    next 2022-02-28 08:57:07.639  3255  47125  0.01  0.000591   \n",
       "4    next 2022-02-28 08:57:07.646  3255  22144  0.03  0.000538   \n",
       "\n",
       "   recommendation  experiments       rnd  \n",
       "0         37339.0  {'AA': 'C'}  0.455708  \n",
       "1           716.0  {'AA': 'C'}  0.357232  \n",
       "2         47125.0  {'AA': 'C'}  0.990345  \n",
       "3         22144.0  {'AA': 'C'}  0.764251  \n",
       "4         33057.0  {'AA': 'C'}  0.035511  "
      ]
     },
     "execution_count": 2,
     "metadata": {},
     "output_type": "execute_result"
    }
   ],
   "source": [
    "data = pd.read_json(\"/Users/n.anokhin/Desktop/seminar-2-data.json\", lines=True)\n",
    "data[\"rnd\"] = np.random.random(len(data))\n",
    "\n",
    "data.head()"
   ]
  },
  {
   "cell_type": "markdown",
   "metadata": {},
   "source": [
    "## Compute track popularity"
   ]
  },
  {
   "cell_type": "code",
   "execution_count": 3,
   "metadata": {
    "tags": []
   },
   "outputs": [
    {
     "data": {
      "text/html": [
       "<div>\n",
       "<style scoped>\n",
       "    .dataframe tbody tr th:only-of-type {\n",
       "        vertical-align: middle;\n",
       "    }\n",
       "\n",
       "    .dataframe tbody tr th {\n",
       "        vertical-align: top;\n",
       "    }\n",
       "\n",
       "    .dataframe thead th {\n",
       "        text-align: right;\n",
       "    }\n",
       "</style>\n",
       "<table border=\"1\" class=\"dataframe\">\n",
       "  <thead>\n",
       "    <tr style=\"text-align: right;\">\n",
       "      <th></th>\n",
       "      <th>track</th>\n",
       "      <th>time</th>\n",
       "    </tr>\n",
       "  </thead>\n",
       "  <tbody>\n",
       "    <tr>\n",
       "      <th>0</th>\n",
       "      <td>246</td>\n",
       "      <td>33.91</td>\n",
       "    </tr>\n",
       "    <tr>\n",
       "      <th>1</th>\n",
       "      <td>176</td>\n",
       "      <td>28.00</td>\n",
       "    </tr>\n",
       "    <tr>\n",
       "      <th>2</th>\n",
       "      <td>177</td>\n",
       "      <td>27.04</td>\n",
       "    </tr>\n",
       "    <tr>\n",
       "      <th>3</th>\n",
       "      <td>171</td>\n",
       "      <td>26.00</td>\n",
       "    </tr>\n",
       "    <tr>\n",
       "      <th>4</th>\n",
       "      <td>7585</td>\n",
       "      <td>22.97</td>\n",
       "    </tr>\n",
       "  </tbody>\n",
       "</table>\n",
       "</div>"
      ],
      "text/plain": [
       "   track   time\n",
       "0    246  33.91\n",
       "1    176  28.00\n",
       "2    177  27.04\n",
       "3    171  26.00\n",
       "4   7585  22.97"
      ]
     },
     "execution_count": 3,
     "metadata": {},
     "output_type": "execute_result"
    }
   ],
   "source": [
    "track_popularity = (\n",
    "    data[data[\"rnd\"] > 0.5]\n",
    "    .groupby(\"track\")[\"time\"]\n",
    "    .sum()\n",
    "    .to_frame()\n",
    "    .sort_values(\"time\", ascending=False)\n",
    "    .reset_index()\n",
    ")\n",
    "\n",
    "track_popularity.head()"
   ]
  },
  {
   "cell_type": "code",
   "execution_count": 4,
   "metadata": {},
   "outputs": [
    {
     "data": {
      "text/plain": [
       "[<matplotlib.lines.Line2D at 0x134ede150>]"
      ]
     },
     "execution_count": 4,
     "metadata": {},
     "output_type": "execute_result"
    },
    {
     "data": {
      "image/png": "[encoded data removed]",
      "text/plain": [
       "<Figure size 1440x360 with 1 Axes>"
      ]
     },
     "metadata": {
      "needs_background": "light"
     },
     "output_type": "display_data"
    }
   ],
   "source": [
    "fig, ax = plt.subplots(figsize=(20, 5))\n",
    "\n",
    "ax.plot(track_popularity.index.values, track_popularity[\"time\"].values)"
   ]
  },
  {
   "cell_type": "markdown",
   "metadata": {},
   "source": [
    "## Compute offline metrics"
   ]
  },
  {
   "cell_type": "code",
   "execution_count": 14,
   "metadata": {
    "tags": []
   },
   "outputs": [],
   "source": [
    "def precision_at(recommendations, track, k):\n",
    "    return 1.0 / k * int(track in recommendations[:k])\n",
    "\n",
    "\n",
    "    \n",
    "def shuffled_precision_at(recommendations, track, k):\n",
    "    shuffled = list(recommendations)\n",
    "    random.shuffle(shuffled)\n",
    "    return precision_at(shuffled, track, k)\n",
    "\n",
    "\n",
    "def mrr(recommendations, track):\n",
    "    return 1.0 / (1 + recommendations.index(track)) if track in recommendations else 0.0\n",
    "\n",
    "    \n",
    "def shuffled_mrr(recommendations, track):\n",
    "    shuffled = list(recommendations)\n",
    "    random.shuffle(shuffled)\n",
    "    return mrr(shuffled, track)"
   ]
  },
  {
   "cell_type": "code",
   "execution_count": 15,
   "metadata": {},
   "outputs": [],
   "source": [
    "tracks = track_popularity[\"track\"].tolist()\n",
    "\n",
    "t_mrr = lambda track: mrr(tracks, track)\n",
    "st_10_mrr = lambda track: shuffled_mrr(tracks[:10], track)\n",
    "st_100_mrr = lambda track: shuffled_mrr(tracks[:100], track)\n",
    "st_1000_mrr = lambda track: shuffled_mrr(tracks[:1000], track)\n",
    "\n",
    "metrics = data[(data[\"rnd\"] <= 0.5) & (data[\"time\"] >= 0.75)].copy()\n",
    "\n",
    "metrics[\"t_mrr\"] = metrics[\"track\"].map(t_mrr)\n",
    "metrics[\"st_10_mrr\"] = metrics[\"track\"].map(st_10_mrr)\n",
    "metrics[\"st_100_mrr\"] = metrics[\"track\"].map(st_100_mrr)\n",
    "metrics[\"st_1000_mrr\"] = metrics[\"track\"].map(st_1000_mrr)"
   ]
  },
  {
   "cell_type": "code",
   "execution_count": 17,
   "metadata": {},
   "outputs": [
    {
     "data": {
      "text/html": [
       "<div>\n",
       "<style scoped>\n",
       "    .dataframe tbody tr th:only-of-type {\n",
       "        vertical-align: middle;\n",
       "    }\n",
       "\n",
       "    .dataframe tbody tr th {\n",
       "        vertical-align: top;\n",
       "    }\n",
       "\n",
       "    .dataframe thead th {\n",
       "        text-align: right;\n",
       "    }\n",
       "</style>\n",
       "<table border=\"1\" class=\"dataframe\">\n",
       "  <thead>\n",
       "    <tr style=\"text-align: right;\">\n",
       "      <th></th>\n",
       "      <th>t_mrr</th>\n",
       "      <th>st_10_mrr</th>\n",
       "      <th>st_100_mrr</th>\n",
       "      <th>st_1000_mrr</th>\n",
       "    </tr>\n",
       "  </thead>\n",
       "  <tbody>\n",
       "    <tr>\n",
       "      <th>count</th>\n",
       "      <td>16928.000000</td>\n",
       "      <td>16928.000000</td>\n",
       "      <td>16928.000000</td>\n",
       "      <td>16928.000000</td>\n",
       "    </tr>\n",
       "    <tr>\n",
       "      <th>mean</th>\n",
       "      <td>0.005617</td>\n",
       "      <td>0.003449</td>\n",
       "      <td>0.002581</td>\n",
       "      <td>0.001272</td>\n",
       "    </tr>\n",
       "    <tr>\n",
       "      <th>std</th>\n",
       "      <td>0.050377</td>\n",
       "      <td>0.044420</td>\n",
       "      <td>0.028494</td>\n",
       "      <td>0.013547</td>\n",
       "    </tr>\n",
       "    <tr>\n",
       "      <th>min</th>\n",
       "      <td>0.000000</td>\n",
       "      <td>0.000000</td>\n",
       "      <td>0.000000</td>\n",
       "      <td>0.000000</td>\n",
       "    </tr>\n",
       "    <tr>\n",
       "      <th>25%</th>\n",
       "      <td>0.000033</td>\n",
       "      <td>0.000000</td>\n",
       "      <td>0.000000</td>\n",
       "      <td>0.000000</td>\n",
       "    </tr>\n",
       "    <tr>\n",
       "      <th>50%</th>\n",
       "      <td>0.000090</td>\n",
       "      <td>0.000000</td>\n",
       "      <td>0.000000</td>\n",
       "      <td>0.000000</td>\n",
       "    </tr>\n",
       "    <tr>\n",
       "      <th>75%</th>\n",
       "      <td>0.000505</td>\n",
       "      <td>0.000000</td>\n",
       "      <td>0.000000</td>\n",
       "      <td>0.000000</td>\n",
       "    </tr>\n",
       "    <tr>\n",
       "      <th>max</th>\n",
       "      <td>1.000000</td>\n",
       "      <td>1.000000</td>\n",
       "      <td>1.000000</td>\n",
       "      <td>1.000000</td>\n",
       "    </tr>\n",
       "  </tbody>\n",
       "</table>\n",
       "</div>"
      ],
      "text/plain": [
       "              t_mrr     st_10_mrr    st_100_mrr   st_1000_mrr\n",
       "count  16928.000000  16928.000000  16928.000000  16928.000000\n",
       "mean       0.005617      0.003449      0.002581      0.001272\n",
       "std        0.050377      0.044420      0.028494      0.013547\n",
       "min        0.000000      0.000000      0.000000      0.000000\n",
       "25%        0.000033      0.000000      0.000000      0.000000\n",
       "50%        0.000090      0.000000      0.000000      0.000000\n",
       "75%        0.000505      0.000000      0.000000      0.000000\n",
       "max        1.000000      1.000000      1.000000      1.000000"
      ]
     },
     "execution_count": 17,
     "metadata": {},
     "output_type": "execute_result"
    }
   ],
   "source": [
    "metrics[[\"t_mrr\", \"st_10_mrr\", \"st_100_mrr\", \"st_1000_mrr\"]].describe()"
   ]
  },
  {
   "cell_type": "code",
   "execution_count": 6,
   "metadata": {
    "tags": []
   },
   "outputs": [],
   "source": [
    "tracks = track_popularity[\"track\"].tolist()\n",
    "\n",
    "t_p_10_udf = lambda track: precision_at(tracks, track, 10)\n",
    "st_10_p_10_udf = lambda track: shuffled_precision_at(tracks[:10], track, 10)\n",
    "st_100_p_10_udf = lambda track: shuffled_precision_at(tracks[:100], track, 10)\n",
    "st_1000_p_10_udf = lambda track: shuffled_precision_at(tracks[:1000], track, 10)\n",
    "\n",
    "\n",
    "metrics = data[(data[\"rnd\"] <= 0.5) & (data[\"time\"] >= 0.75)].copy()\n",
    "\n",
    "metrics[\"t_p_10_udf\"] = metrics[\"track\"].map(t_p_10_udf)\n",
    "metrics[\"st_10_p_10_udf\"] = metrics[\"track\"].map(st_10_p_10_udf)\n",
    "metrics[\"st_100_p_10_udf\"] = metrics[\"track\"].map(st_100_p_10_udf)\n",
    "metrics[\"st_1000_p_10_udf\"] = metrics[\"track\"].map(st_1000_p_10_udf)"
   ]
  },
  {
   "cell_type": "code",
   "execution_count": 7,
   "metadata": {},
   "outputs": [
    {
     "data": {
      "text/html": [
       "<div>\n",
       "<style scoped>\n",
       "    .dataframe tbody tr th:only-of-type {\n",
       "        vertical-align: middle;\n",
       "    }\n",
       "\n",
       "    .dataframe tbody tr th {\n",
       "        vertical-align: top;\n",
       "    }\n",
       "\n",
       "    .dataframe thead th {\n",
       "        text-align: right;\n",
       "    }\n",
       "</style>\n",
       "<table border=\"1\" class=\"dataframe\">\n",
       "  <thead>\n",
       "    <tr style=\"text-align: right;\">\n",
       "      <th></th>\n",
       "      <th>t_p_10_udf</th>\n",
       "      <th>st_10_p_10_udf</th>\n",
       "      <th>st_100_p_10_udf</th>\n",
       "      <th>st_1000_p_10_udf</th>\n",
       "    </tr>\n",
       "  </thead>\n",
       "  <tbody>\n",
       "    <tr>\n",
       "      <th>count</th>\n",
       "      <td>16928.000000</td>\n",
       "      <td>16928.000000</td>\n",
       "      <td>16928.000000</td>\n",
       "      <td>16928.000000</td>\n",
       "    </tr>\n",
       "    <tr>\n",
       "      <th>mean</th>\n",
       "      <td>0.001099</td>\n",
       "      <td>0.001099</td>\n",
       "      <td>0.000467</td>\n",
       "      <td>0.000213</td>\n",
       "    </tr>\n",
       "    <tr>\n",
       "      <th>std</th>\n",
       "      <td>0.010425</td>\n",
       "      <td>0.010425</td>\n",
       "      <td>0.006816</td>\n",
       "      <td>0.004607</td>\n",
       "    </tr>\n",
       "    <tr>\n",
       "      <th>min</th>\n",
       "      <td>0.000000</td>\n",
       "      <td>0.000000</td>\n",
       "      <td>0.000000</td>\n",
       "      <td>0.000000</td>\n",
       "    </tr>\n",
       "    <tr>\n",
       "      <th>25%</th>\n",
       "      <td>0.000000</td>\n",
       "      <td>0.000000</td>\n",
       "      <td>0.000000</td>\n",
       "      <td>0.000000</td>\n",
       "    </tr>\n",
       "    <tr>\n",
       "      <th>50%</th>\n",
       "      <td>0.000000</td>\n",
       "      <td>0.000000</td>\n",
       "      <td>0.000000</td>\n",
       "      <td>0.000000</td>\n",
       "    </tr>\n",
       "    <tr>\n",
       "      <th>75%</th>\n",
       "      <td>0.000000</td>\n",
       "      <td>0.000000</td>\n",
       "      <td>0.000000</td>\n",
       "      <td>0.000000</td>\n",
       "    </tr>\n",
       "    <tr>\n",
       "      <th>max</th>\n",
       "      <td>0.100000</td>\n",
       "      <td>0.100000</td>\n",
       "      <td>0.100000</td>\n",
       "      <td>0.100000</td>\n",
       "    </tr>\n",
       "  </tbody>\n",
       "</table>\n",
       "</div>"
      ],
      "text/plain": [
       "         t_p_10_udf  st_10_p_10_udf  st_100_p_10_udf  st_1000_p_10_udf\n",
       "count  16928.000000    16928.000000     16928.000000      16928.000000\n",
       "mean       0.001099        0.001099         0.000467          0.000213\n",
       "std        0.010425        0.010425         0.006816          0.004607\n",
       "min        0.000000        0.000000         0.000000          0.000000\n",
       "25%        0.000000        0.000000         0.000000          0.000000\n",
       "50%        0.000000        0.000000         0.000000          0.000000\n",
       "75%        0.000000        0.000000         0.000000          0.000000\n",
       "max        0.100000        0.100000         0.100000          0.100000"
      ]
     },
     "execution_count": 7,
     "metadata": {},
     "output_type": "execute_result"
    }
   ],
   "source": [
    "metrics[[\"t_p_10_udf\", \"st_10_p_10_udf\", \"st_100_p_10_udf\", \"st_1000_p_10_udf\"]].describe()"
   ]
  },
  {
   "cell_type": "markdown",
   "metadata": {},
   "source": [
    "## Export data for prod"
   ]
  },
  {
   "cell_type": "code",
   "execution_count": 18,
   "metadata": {},
   "outputs": [],
   "source": [
    "with open(\"/Users/n.anokhin/Desktop/top_tracks.json\", \"w\") as top_tracks_file:\n",
    "    json.dump(track_popularity[\"track\"].tolist(), top_tracks_file)"
   ]
  },
  {
   "cell_type": "code",
   "execution_count": null,
   "metadata": {},
   "outputs": [],
   "source": []
  }
 ],
 "metadata": {
  "kernelspec": {
   "display_name": "Python 3 (ipykernel)",
   "language": "python",
   "name": "python3"
  },
  "language_info": {
   "codemirror_mode": {
    "name": "ipython",
    "version": 3
   },
   "file_extension": ".py",
   "mimetype": "text/x-python",
   "name": "python",
   "nbconvert_exporter": "python",
   "pygments_lexer": "ipython3",
   "version": "3.7.5"
  }
 },
 "nbformat": 4,
 "nbformat_minor": 4
}
