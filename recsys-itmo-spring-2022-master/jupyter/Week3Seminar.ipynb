{
 "cells": [
  {
   "cell_type": "code",
   "execution_count": 1,
   "metadata": {},
   "outputs": [
    {
     "name": "stderr",
     "output_type": "stream",
     "text": [
      "/Users/n.anokhin/Projects/virtualenv/recsys-course-itmo-2022/lib/python3.7/site-packages/lightfm/_lightfm_fast.py:10: UserWarning: LightFM was compiled without OpenMP support. Only a single thread will be used.\n",
      "  \"LightFM was compiled without OpenMP support. \"\n"
     ]
    }
   ],
   "source": [
    "import pandas as pd\n",
    "import numpy as np\n",
    "import scipy.stats as ss\n",
    "\n",
    "import lightfm\n",
    "import lightfm.data as ld\n",
    "import lightfm.evaluation as lv\n",
    "\n",
    "import tqdm\n",
    "import json\n",
    "import optuna\n",
    "\n",
    "import tensorboardX as tb\n",
    "\n",
    "import matplotlib.pyplot as pl\n",
    "import seaborn as sns\n",
    "\n",
    "np.random.seed(31337)"
   ]
  },
  {
   "cell_type": "code",
   "execution_count": 2,
   "metadata": {},
   "outputs": [],
   "source": [
    "DATA_DIR = \"/Users/n.anokhin/Desktop/\""
   ]
  },
  {
   "cell_type": "code",
   "execution_count": 3,
   "metadata": {},
   "outputs": [],
   "source": [
    "data = pd.read_json(DATA_DIR + \"data.json\", lines=True).drop_duplicates(subset=[\"user\", \"track\"])"
   ]
  },
  {
   "cell_type": "code",
   "execution_count": 4,
   "metadata": {},
   "outputs": [],
   "source": [
    "positives = data[data[\"time\"] > 0.8].copy()\n",
    "positives[\"test\"] = np.random.random(len(positives)) >= 0.7"
   ]
  },
  {
   "cell_type": "code",
   "execution_count": 5,
   "metadata": {},
   "outputs": [],
   "source": [
    "user_counts = positives[~positives[\"test\"]].groupby(\"user\").size()\n",
    "users = set(user_counts[user_counts >= 5].index.values)"
   ]
  },
  {
   "cell_type": "code",
   "execution_count": 6,
   "metadata": {},
   "outputs": [],
   "source": [
    "track_counts = positives[~positives[\"test\"]].groupby(\"track\").size()\n",
    "tracks = set(track_counts[track_counts >= 5].index.values)"
   ]
  },
  {
   "cell_type": "markdown",
   "metadata": {},
   "source": [
    "## Train LightFM"
   ]
  },
  {
   "cell_type": "code",
   "execution_count": 7,
   "metadata": {},
   "outputs": [
    {
     "data": {
      "text/plain": [
       "(24492, 7546)"
      ]
     },
     "execution_count": 7,
     "metadata": {},
     "output_type": "execute_result"
    }
   ],
   "source": [
    "train_data = positives[~positives[\"test\"] & positives[\"user\"].isin(users) & positives[\"track\"].isin(tracks)]\n",
    "test_data = positives[positives[\"test\"] & positives[\"user\"].isin(users) & positives[\"track\"].isin(tracks)]\n",
    "\n",
    "len(train_data), len(test_data)"
   ]
  },
  {
   "cell_type": "code",
   "execution_count": 8,
   "metadata": {},
   "outputs": [],
   "source": [
    "dataset = ld.Dataset()\n",
    "dataset.fit(users, tracks)"
   ]
  },
  {
   "cell_type": "code",
   "execution_count": 9,
   "metadata": {},
   "outputs": [],
   "source": [
    "train_interactions, _ = dataset.build_interactions(train_data[[\"user\", \"track\"]].itertuples(index=False, name=None))\n",
    "test_interactions, _ = dataset.build_interactions(test_data[[\"user\", \"track\"]].itertuples(index=False, name=None))"
   ]
  },
  {
   "cell_type": "code",
   "execution_count": 10,
   "metadata": {},
   "outputs": [],
   "source": [
    "def fit_model(epochs=1, at=10, loss=\"warp\", no_components=30, learning_rate=0.01, max_sampled=10, user_alpha=0.0, item_alpha=0.0, threads=30, verbose=False):\n",
    "    model = lightfm.LightFM(\n",
    "        no_components=no_components,\n",
    "        loss=loss,\n",
    "        learning_rate=learning_rate,\n",
    "        max_sampled=max_sampled,\n",
    "        user_alpha=user_alpha,\n",
    "        item_alpha=item_alpha,\n",
    "    )\n",
    "\n",
    "    precisions_at = []\n",
    "    \n",
    "    for epoch in range(epochs):\n",
    "        model = model.fit_partial(train_interactions, num_threads=threads)\n",
    "        precision_at = lv.precision_at_k(model, test_interactions, train_interactions=train_interactions, k=at, num_threads=threads)\n",
    "        if verbose:\n",
    "            print(f\"{epoch}:\\t{np.mean(precision_at)} +/- {ss.sem(precision_at) * 1.96}\")\n",
    "        precisions_at.append(np.mean(precision_at))\n",
    "        \n",
    "    return model, precisions_at\n",
    "\n",
    "\n",
    "def objective(trial):\n",
    "    loss = trial.suggest_categorical(\"loss\", [\"warp\", \"bpr\"])\n",
    "    no_components = trial.suggest_categorical(\"no_components\", [10, 30, 50])\n",
    "    learning_rate = trial.suggest_categorical(\"learning_rate\", [0.0001, 0.001, 0.01])\n",
    "    max_sampled = trial.suggest_categorical(\"max_sampled\", [10, 20, 50, 100])\n",
    "    user_alpha = trial.suggest_categorical(\"user_alpha\", [0.0, 0.0001])\n",
    "    item_alpha = trial.suggest_categorical(\"item_alpha\", [0.0, 0.0001])\n",
    "    \n",
    "    model, precisions_at = fit_model(\n",
    "        epochs=5, \n",
    "        at=10,\n",
    "        loss=loss,\n",
    "        no_components=no_components, \n",
    "        learning_rate=learning_rate, \n",
    "        max_sampled=max_sampled, \n",
    "        user_alpha=user_alpha, \n",
    "        item_alpha=item_alpha,\n",
    "    )\n",
    "    \n",
    "    return precisions_at[-1]"
   ]
  },
  {
   "cell_type": "code",
   "execution_count": 11,
   "metadata": {},
   "outputs": [
    {
     "name": "stderr",
     "output_type": "stream",
     "text": [
      "\u001b[32m[I 2022-03-18 21:53:59,622]\u001b[0m A new study created in memory with name: no-name-369c05b7-10ec-4ae1-8527-1432912c46a1\u001b[0m\n",
      "\u001b[32m[I 2022-03-18 21:54:03,493]\u001b[0m Trial 0 finished with value: 0.0011021815007552505 and parameters: {'loss': 'bpr', 'no_components': 30, 'learning_rate': 0.001, 'max_sampled': 20, 'user_alpha': 0.0, 'item_alpha': 0.0001}. Best is trial 0 with value: 0.0011021815007552505.\u001b[0m\n",
      "\u001b[32m[I 2022-03-18 21:54:05,876]\u001b[0m Trial 1 finished with value: 0.005602755583822727 and parameters: {'loss': 'warp', 'no_components': 10, 'learning_rate': 0.001, 'max_sampled': 50, 'user_alpha': 0.0, 'item_alpha': 0.0001}. Best is trial 1 with value: 0.005602755583822727.\u001b[0m\n",
      "\u001b[32m[I 2022-03-18 21:54:08,371]\u001b[0m Trial 2 finished with value: 0.0016532721929252148 and parameters: {'loss': 'warp', 'no_components': 10, 'learning_rate': 0.0001, 'max_sampled': 100, 'user_alpha': 0.0001, 'item_alpha': 0.0}. Best is trial 1 with value: 0.005602755583822727.\u001b[0m\n",
      "\u001b[32m[I 2022-03-18 21:54:10,826]\u001b[0m Trial 3 finished with value: 0.000711825501639396 and parameters: {'loss': 'bpr', 'no_components': 10, 'learning_rate': 0.01, 'max_sampled': 10, 'user_alpha': 0.0, 'item_alpha': 0.0}. Best is trial 1 with value: 0.005602755583822727.\u001b[0m\n",
      "\u001b[32m[I 2022-03-18 21:54:13,294]\u001b[0m Trial 4 finished with value: 0.0005740527994930744 and parameters: {'loss': 'bpr', 'no_components': 10, 'learning_rate': 0.0001, 'max_sampled': 100, 'user_alpha': 0.0, 'item_alpha': 0.0001}. Best is trial 1 with value: 0.005602755583822727.\u001b[0m\n",
      "\u001b[32m[I 2022-03-18 21:54:15,770]\u001b[0m Trial 5 finished with value: 0.0004362801555544138 and parameters: {'loss': 'bpr', 'no_components': 10, 'learning_rate': 0.0001, 'max_sampled': 50, 'user_alpha': 0.0001, 'item_alpha': 0.0001}. Best is trial 1 with value: 0.005602755583822727.\u001b[0m\n",
      "\u001b[32m[I 2022-03-18 21:54:19,477]\u001b[0m Trial 6 finished with value: 0.0057175662368535995 and parameters: {'loss': 'warp', 'no_components': 50, 'learning_rate': 0.001, 'max_sampled': 50, 'user_alpha': 0.0, 'item_alpha': 0.0}. Best is trial 6 with value: 0.0057175662368535995.\u001b[0m\n",
      "\u001b[32m[I 2022-03-18 21:54:23,423]\u001b[0m Trial 7 finished with value: 0.001125143375247717 and parameters: {'loss': 'bpr', 'no_components': 30, 'learning_rate': 0.001, 'max_sampled': 100, 'user_alpha': 0.0, 'item_alpha': 0.0001}. Best is trial 6 with value: 0.0057175662368535995.\u001b[0m\n",
      "\u001b[32m[I 2022-03-18 21:54:27,290]\u001b[0m Trial 8 finished with value: 0.005717565771192312 and parameters: {'loss': 'warp', 'no_components': 30, 'learning_rate': 0.001, 'max_sampled': 50, 'user_alpha': 0.0, 'item_alpha': 0.0}. Best is trial 6 with value: 0.0057175662368535995.\u001b[0m\n",
      "\u001b[32m[I 2022-03-18 21:54:31,246]\u001b[0m Trial 9 finished with value: 0.0005970149650238454 and parameters: {'loss': 'bpr', 'no_components': 30, 'learning_rate': 0.0001, 'max_sampled': 50, 'user_alpha': 0.0, 'item_alpha': 0.0}. Best is trial 6 with value: 0.0057175662368535995.\u001b[0m\n",
      "\u001b[32m[I 2022-03-18 21:54:35,005]\u001b[0m Trial 10 finished with value: 0.005464982707053423 and parameters: {'loss': 'warp', 'no_components': 50, 'learning_rate': 0.01, 'max_sampled': 10, 'user_alpha': 0.0001, 'item_alpha': 0.0}. Best is trial 6 with value: 0.0057175662368535995.\u001b[0m\n",
      "\u001b[32m[I 2022-03-18 21:54:38,700]\u001b[0m Trial 11 finished with value: 0.005602755583822727 and parameters: {'loss': 'warp', 'no_components': 50, 'learning_rate': 0.001, 'max_sampled': 50, 'user_alpha': 0.0, 'item_alpha': 0.0}. Best is trial 6 with value: 0.0057175662368535995.\u001b[0m\n",
      "\u001b[32m[I 2022-03-18 21:54:42,438]\u001b[0m Trial 12 finished with value: 0.005464982707053423 and parameters: {'loss': 'warp', 'no_components': 50, 'learning_rate': 0.001, 'max_sampled': 50, 'user_alpha': 0.0, 'item_alpha': 0.0}. Best is trial 6 with value: 0.0057175662368535995.\u001b[0m\n",
      "\u001b[32m[I 2022-03-18 21:54:46,152]\u001b[0m Trial 13 finished with value: 0.005510907154530287 and parameters: {'loss': 'warp', 'no_components': 50, 'learning_rate': 0.001, 'max_sampled': 20, 'user_alpha': 0.0, 'item_alpha': 0.0}. Best is trial 6 with value: 0.0057175662368535995.\u001b[0m\n",
      "\u001b[32m[I 2022-03-18 21:54:50,138]\u001b[0m Trial 14 finished with value: 0.005625717341899872 and parameters: {'loss': 'warp', 'no_components': 30, 'learning_rate': 0.001, 'max_sampled': 50, 'user_alpha': 0.0001, 'item_alpha': 0.0}. Best is trial 6 with value: 0.0057175662368535995.\u001b[0m\n",
      "\u001b[32m[I 2022-03-18 21:54:54,139]\u001b[0m Trial 15 finished with value: 0.005625717341899872 and parameters: {'loss': 'warp', 'no_components': 30, 'learning_rate': 0.001, 'max_sampled': 50, 'user_alpha': 0.0, 'item_alpha': 0.0}. Best is trial 6 with value: 0.0057175662368535995.\u001b[0m\n",
      "\u001b[32m[I 2022-03-18 21:54:57,960]\u001b[0m Trial 16 finished with value: 0.0058553386479616165 and parameters: {'loss': 'warp', 'no_components': 50, 'learning_rate': 0.01, 'max_sampled': 50, 'user_alpha': 0.0, 'item_alpha': 0.0}. Best is trial 16 with value: 0.0058553386479616165.\u001b[0m\n",
      "\u001b[32m[I 2022-03-18 21:55:01,667]\u001b[0m Trial 17 finished with value: 0.005901262629777193 and parameters: {'loss': 'warp', 'no_components': 50, 'learning_rate': 0.01, 'max_sampled': 20, 'user_alpha': 0.0, 'item_alpha': 0.0}. Best is trial 17 with value: 0.005901262629777193.\u001b[0m\n",
      "\u001b[32m[I 2022-03-18 21:55:05,412]\u001b[0m Trial 18 finished with value: 0.00580941466614604 and parameters: {'loss': 'warp', 'no_components': 50, 'learning_rate': 0.01, 'max_sampled': 20, 'user_alpha': 0.0001, 'item_alpha': 0.0}. Best is trial 17 with value: 0.005901262629777193.\u001b[0m\n",
      "\u001b[32m[I 2022-03-18 21:55:09,215]\u001b[0m Trial 19 finished with value: 0.0061997706070542336 and parameters: {'loss': 'warp', 'no_components': 50, 'learning_rate': 0.01, 'max_sampled': 20, 'user_alpha': 0.0, 'item_alpha': 0.0}. Best is trial 19 with value: 0.0061997706070542336.\u001b[0m\n",
      "\u001b[32m[I 2022-03-18 21:55:12,908]\u001b[0m Trial 20 finished with value: 0.0057175662368535995 and parameters: {'loss': 'warp', 'no_components': 50, 'learning_rate': 0.01, 'max_sampled': 20, 'user_alpha': 0.0, 'item_alpha': 0.0}. Best is trial 19 with value: 0.0061997706070542336.\u001b[0m\n",
      "\u001b[32m[I 2022-03-18 21:55:16,577]\u001b[0m Trial 21 finished with value: 0.005694604013115168 and parameters: {'loss': 'warp', 'no_components': 50, 'learning_rate': 0.01, 'max_sampled': 20, 'user_alpha': 0.0, 'item_alpha': 0.0}. Best is trial 19 with value: 0.0061997706070542336.\u001b[0m\n",
      "\u001b[32m[I 2022-03-18 21:55:20,275]\u001b[0m Trial 22 finished with value: 0.0061997706070542336 and parameters: {'loss': 'warp', 'no_components': 50, 'learning_rate': 0.01, 'max_sampled': 20, 'user_alpha': 0.0, 'item_alpha': 0.0}. Best is trial 19 with value: 0.0061997706070542336.\u001b[0m\n",
      "\u001b[32m[I 2022-03-18 21:55:24,283]\u001b[0m Trial 23 finished with value: 0.005648679565638304 and parameters: {'loss': 'warp', 'no_components': 50, 'learning_rate': 0.01, 'max_sampled': 20, 'user_alpha': 0.0, 'item_alpha': 0.0}. Best is trial 19 with value: 0.0061997706070542336.\u001b[0m\n",
      "\u001b[32m[I 2022-03-18 21:55:28,214]\u001b[0m Trial 24 finished with value: 0.005947187542915344 and parameters: {'loss': 'warp', 'no_components': 50, 'learning_rate': 0.01, 'max_sampled': 20, 'user_alpha': 0.0, 'item_alpha': 0.0}. Best is trial 19 with value: 0.0061997706070542336.\u001b[0m\n",
      "\u001b[32m[I 2022-03-18 21:55:32,016]\u001b[0m Trial 25 finished with value: 0.005970149300992489 and parameters: {'loss': 'warp', 'no_components': 50, 'learning_rate': 0.01, 'max_sampled': 20, 'user_alpha': 0.0, 'item_alpha': 0.0}. Best is trial 19 with value: 0.0061997706070542336.\u001b[0m\n",
      "\u001b[32m[I 2022-03-18 21:55:35,695]\u001b[0m Trial 26 finished with value: 0.0057175662368535995 and parameters: {'loss': 'warp', 'no_components': 50, 'learning_rate': 0.01, 'max_sampled': 20, 'user_alpha': 0.0001, 'item_alpha': 0.0001}. Best is trial 19 with value: 0.0061997706070542336.\u001b[0m\n",
      "\u001b[32m[I 2022-03-18 21:55:39,556]\u001b[0m Trial 27 finished with value: 0.005970149300992489 and parameters: {'loss': 'warp', 'no_components': 50, 'learning_rate': 0.01, 'max_sampled': 20, 'user_alpha': 0.0, 'item_alpha': 0.0}. Best is trial 19 with value: 0.0061997706070542336.\u001b[0m\n",
      "\u001b[32m[I 2022-03-18 21:55:43,570]\u001b[0m Trial 28 finished with value: 0.00590126309543848 and parameters: {'loss': 'warp', 'no_components': 50, 'learning_rate': 0.01, 'max_sampled': 10, 'user_alpha': 0.0, 'item_alpha': 0.0}. Best is trial 19 with value: 0.0061997706070542336.\u001b[0m\n",
      "\u001b[32m[I 2022-03-18 21:55:47,703]\u001b[0m Trial 29 finished with value: 0.0007807118236087263 and parameters: {'loss': 'bpr', 'no_components': 50, 'learning_rate': 0.01, 'max_sampled': 20, 'user_alpha': 0.0, 'item_alpha': 0.0001}. Best is trial 19 with value: 0.0061997706070542336.\u001b[0m\n"
     ]
    }
   ],
   "source": [
    "study = optuna.create_study(direction=\"maximize\")\n",
    "study.optimize(objective, n_trials=30)\n",
    "best_params = study.best_params"
   ]
  },
  {
   "cell_type": "code",
   "execution_count": 12,
   "metadata": {},
   "outputs": [
    {
     "data": {
      "text/plain": [
       "{'loss': 'warp',\n",
       " 'no_components': 50,\n",
       " 'learning_rate': 0.01,\n",
       " 'max_sampled': 20,\n",
       " 'user_alpha': 0.0,\n",
       " 'item_alpha': 0.0}"
      ]
     },
     "execution_count": 12,
     "metadata": {},
     "output_type": "execute_result"
    }
   ],
   "source": [
    "best_params"
   ]
  },
  {
   "cell_type": "code",
   "execution_count": 13,
   "metadata": {
    "tags": []
   },
   "outputs": [
    {
     "name": "stdout",
     "output_type": "stream",
     "text": [
      "0:\t0.005510907154530287 +/- 0.0007461144971000506\n",
      "1:\t0.005809414200484753 +/- 0.0007669074378439786\n",
      "2:\t0.005809414200484753 +/- 0.0007669074378439786\n",
      "3:\t0.005832376889884472 +/- 0.0007707069024563933\n",
      "4:\t0.006039035506546497 +/- 0.0007810622691270319\n",
      "5:\t0.006337542552500963 +/- 0.0008007747855279131\n",
      "6:\t0.006796785164624453 +/- 0.0008346841773747107\n",
      "7:\t0.007485648151487112 +/- 0.0008861512669543904\n",
      "8:\t0.008266360498964787 +/- 0.000924906912426359\n",
      "9:\t0.00943742785602808 +/- 0.0010006322669101541\n",
      "10:\t0.010355913080275059 +/- 0.001055882280043438\n",
      "11:\t0.011504017747938633 +/- 0.001105624839769262\n",
      "12:\t0.012284730561077595 +/- 0.0011469188462528213\n",
      "13:\t0.01315729133784771 +/- 0.001182004589519514\n",
      "14:\t0.01400688849389553 +/- 0.0012265436308783648\n",
      "15:\t0.014695752412080765 +/- 0.0012666769971818358\n",
      "16:\t0.015591274946928024 +/- 0.0013007571104583643\n",
      "17:\t0.016119403764605522 +/- 0.0013160143839487006\n",
      "18:\t0.01703788712620735 +/- 0.0013409767779382384\n",
      "19:\t0.01800229586660862 +/- 0.0013658878337920695\n",
      "20:\t0.01878300867974758 +/- 0.0013948697603938499\n",
      "21:\t0.019402984529733658 +/- 0.0014083774434964138\n",
      "22:\t0.01981630176305771 +/- 0.0014176544880321487\n",
      "23:\t0.020275546237826347 +/- 0.0014276102138705204\n",
      "24:\t0.02105625905096531 +/- 0.0014514983794989068\n",
      "25:\t0.02144661359488964 +/- 0.0014596924549133165\n",
      "26:\t0.02195177786052227 +/- 0.0014806749263177297\n",
      "27:\t0.022158438339829445 +/- 0.0014882019378955568\n",
      "28:\t0.022479908540844917 +/- 0.0014975324227751413\n",
      "29:\t0.023008035495877266 +/- 0.0015032966775036672\n",
      "30:\t0.023490242660045624 +/- 0.0015175385844608607\n",
      "31:\t0.023972446098923683 +/- 0.0015288660564339068\n",
      "32:\t0.024270953610539436 +/- 0.001539910062235229\n",
      "33:\t0.024776119738817215 +/- 0.0015485752535587725\n",
      "34:\t0.025235360488295555 +/- 0.0015564036553988073\n",
      "35:\t0.025510909035801888 +/- 0.00156543120102071\n",
      "36:\t0.025740530341863632 +/- 0.001569873609397328\n",
      "37:\t0.026176808401942253 +/- 0.0015808920567733308\n",
      "38:\t0.02638346701860428 +/- 0.0015836254805720992\n",
      "39:\t0.026544203981757164 +/- 0.0015844537505805016\n",
      "40:\t0.02677382342517376 +/- 0.001584880941403697\n",
      "41:\t0.026980482041835785 +/- 0.001588814504767138\n",
      "42:\t0.02725602686405182 +/- 0.0015948545913325525\n",
      "43:\t0.027393801137804985 +/- 0.0015991178694468673\n",
      "44:\t0.02757749892771244 +/- 0.001601398212069519\n",
      "45:\t0.027898967266082764 +/- 0.0016078585189784964\n",
      "46:\t0.02801377698779106 +/- 0.001613019108042336\n",
      "47:\t0.028151551261544228 +/- 0.0016146700052899145\n",
      "48:\t0.028197474777698517 +/- 0.0016127070960968784\n",
      "49:\t0.028312284499406815 +/- 0.0016153271112984504\n",
      "50:\t0.02851894311606884 +/- 0.0016227632853559864\n",
      "51:\t0.028656719252467155 +/- 0.0016256132157428987\n",
      "52:\t0.02884041517972946 +/- 0.001625239354621019\n",
      "53:\t0.02897818759083748 +/- 0.0016305479833951502\n",
      "54:\t0.0290011465549469 +/- 0.0016295661415497637\n",
      "55:\t0.029092995449900627 +/- 0.0016293648827806902\n",
      "56:\t0.029184842482209206 +/- 0.001634125831012263\n",
      "57:\t0.029276695102453232 +/- 0.0016425727246165201\n",
      "58:\t0.02934558130800724 +/- 0.001638399288239692\n",
      "59:\t0.029460391029715538 +/- 0.0016371991486750191\n",
      "60:\t0.029575198888778687 +/- 0.0016397019934332436\n",
      "61:\t0.029621124267578125 +/- 0.0016426746263901962\n",
      "62:\t0.029621124267578125 +/- 0.001640206080817465\n",
      "63:\t0.029506314545869827 +/- 0.001638943428221167\n",
      "64:\t0.029621124267578125 +/- 0.001637733884041117\n",
      "65:\t0.029690012335777283 +/- 0.0016409597777580526\n",
      "66:\t0.02985074557363987 +/- 0.0016451720496642622\n",
      "67:\t0.02978185936808586 +/- 0.0016468884472918797\n",
      "68:\t0.02975889854133129 +/- 0.0016417105979927597\n",
      "69:\t0.029965557157993317 +/- 0.0016464085906225717\n",
      "70:\t0.030011480674147606 +/- 0.0016469010605407387\n",
      "71:\t0.030034439638257027 +/- 0.0016471467976084198\n",
      "72:\t0.030126294121146202 +/- 0.001649355333226603\n",
      "73:\t0.03024110570549965 +/- 0.0016530251247893455\n",
      "74:\t0.03028702549636364 +/- 0.0016522830453148123\n",
      "75:\t0.030401835218071938 +/- 0.0016547125340730944\n",
      "76:\t0.030424799770116806 +/- 0.0016549522964439476\n",
      "77:\t0.030401838943362236 +/- 0.001651035329460584\n",
      "78:\t0.030378876253962517 +/- 0.0016520214863647907\n",
      "79:\t0.030355915427207947 +/- 0.0016517806175685987\n",
      "80:\t0.03026406466960907 +/- 0.0016446667452121684\n",
      "81:\t0.03030998818576336 +/- 0.0016439202400362813\n",
      "82:\t0.030401838943362236 +/- 0.001647349826658035\n",
      "83:\t0.030447762459516525 +/- 0.0016490603602313584\n",
      "84:\t0.030424799770116806 +/- 0.0016451295629312636\n",
      "85:\t0.030562574043869972 +/- 0.0016551608576202551\n",
      "86:\t0.030539609491825104 +/- 0.0016561464613117924\n",
      "87:\t0.030516646802425385 +/- 0.001655908358578947\n",
      "88:\t0.03060849756002426 +/- 0.0016556360673031416\n",
      "89:\t0.030470723286271095 +/- 0.0016529815316310085\n",
      "90:\t0.030424799770116806 +/- 0.0016488199340053023\n",
      "91:\t0.030447762459516525 +/- 0.0016490603602313584\n",
      "92:\t0.030401838943362236 +/- 0.001642423135910755\n",
      "93:\t0.030447762459516525 +/- 0.0016416724263185814\n",
      "94:\t0.030493685975670815 +/- 0.001642154274553499\n",
      "95:\t0.030470727011561394 +/- 0.0016406790776496746\n",
      "96:\t0.030470727011561394 +/- 0.0016406790776496746\n",
      "97:\t0.03028702922165394 +/- 0.0016337870435736137\n",
      "98:\t0.03026406839489937 +/- 0.0016310600370418088\n",
      "99:\t0.030332952737808228 +/- 0.0016342751984329607\n"
     ]
    }
   ],
   "source": [
    "model, precisions_at = fit_model(\n",
    "    epochs=100,\n",
    "    at=10,\n",
    "    loss=best_params[\"loss\"],\n",
    "    no_components=best_params[\"no_components\"], \n",
    "    learning_rate=best_params[\"learning_rate\"], \n",
    "    max_sampled=best_params[\"max_sampled\"],\n",
    "    user_alpha=best_params[\"user_alpha\"],\n",
    "    item_alpha=best_params[\"item_alpha\"],\n",
    "    verbose=True,\n",
    ")"
   ]
  },
  {
   "cell_type": "code",
   "execution_count": 14,
   "metadata": {},
   "outputs": [
    {
     "data": {
      "image/png": "[encoded data removed]",
      "text/plain": [
       "<Figure size 432x288 with 1 Axes>"
      ]
     },
     "metadata": {
      "needs_background": "light"
     },
     "output_type": "display_data"
    }
   ],
   "source": [
    "figure, ax = pl.subplots()\n",
    "\n",
    "ax.plot(np.arange(len(precisions_at)), precisions_at)\n",
    "\n",
    "pass"
   ]
  },
  {
   "cell_type": "markdown",
   "metadata": {},
   "source": [
    "## Save track embeddings"
   ]
  },
  {
   "cell_type": "code",
   "execution_count": 22,
   "metadata": {},
   "outputs": [],
   "source": [
    "biases, embeddings = model.get_item_representations()"
   ]
  },
  {
   "cell_type": "code",
   "execution_count": 23,
   "metadata": {},
   "outputs": [],
   "source": [
    "model.item_biases *= 0.0"
   ]
  },
  {
   "cell_type": "code",
   "execution_count": 24,
   "metadata": {},
   "outputs": [],
   "source": [
    "track_meta = pd.read_json(DATA_DIR + \"tracks.json\", lines=True)\n",
    "track_meta[\"dataset_index\"] = track_meta[\"track\"].map(lambda t: dataset.mapping()[2].get(t))"
   ]
  },
  {
   "cell_type": "code",
   "execution_count": 25,
   "metadata": {},
   "outputs": [],
   "source": [
    "dataset_tracks = track_meta[pd.notnull(track_meta[\"dataset_index\"])].sort_values(\"dataset_index\")"
   ]
  },
  {
   "cell_type": "code",
   "execution_count": 26,
   "metadata": {},
   "outputs": [
    {
     "name": "stdout",
     "output_type": "stream",
     "text": [
      "warning: Embedding dir exists, did you set global_step for add_embedding()?\n"
     ]
    }
   ],
   "source": [
    "writer = tb.SummaryWriter(comment='msd_ligtfm_embeddings', log_dir=DATA_DIR + \"tb\")\n",
    "writer.add_embedding(embeddings, metadata=list(dataset_tracks[[\"artist\", \"title\"]].itertuples(index=False, name=None)), tag=\"lightfm\", metadata_header=[\"artist\", \"title\"])\n",
    "writer.close()"
   ]
  },
  {
   "cell_type": "markdown",
   "metadata": {},
   "source": [
    "## Compute top recommendations"
   ]
  },
  {
   "cell_type": "code",
   "execution_count": 27,
   "metadata": {},
   "outputs": [],
   "source": [
    "tracks = dataset_tracks[\"track\"].values\n",
    "users = [user for user, index in sorted(dataset.mapping()[0].items(), key=lambda kv: kv[1])]"
   ]
  },
  {
   "cell_type": "code",
   "execution_count": 28,
   "metadata": {},
   "outputs": [
    {
     "name": "stderr",
     "output_type": "stream",
     "text": [
      "100%|█████████████████████████████████████████████████████████████████████████████████████████████████████████████████████████████████████████████████████████████████| 6755/6755 [00:03<00:00, 1858.38it/s]\n"
     ]
    }
   ],
   "source": [
    "with open(DATA_DIR + \"recommendations.json\", \"w\") as rf:\n",
    "    for user_index in tqdm.tqdm(range(dataset.user_features_shape()[0])):\n",
    "        predictions = model.predict(user_index, np.arange(dataset.item_features_shape()[0]), num_threads=30)\n",
    "        top = tracks[np.argsort(predictions)[-100:]]\n",
    "        recommendation = {\n",
    "            \"user\": int(users[user_index]),\n",
    "            \"tracks\": [int(x) for x in top]\n",
    "        }\n",
    "        rf.write(json.dumps(recommendation) + \"\\n\")"
   ]
  },
  {
   "cell_type": "code",
   "execution_count": null,
   "metadata": {},
   "outputs": [],
   "source": []
  }
 ],
 "metadata": {
  "kernelspec": {
   "display_name": "Python 3 (ipykernel)",
   "language": "python",
   "name": "python3"
  },
  "language_info": {
   "codemirror_mode": {
    "name": "ipython",
    "version": 3
   },
   "file_extension": ".py",
   "mimetype": "text/x-python",
   "name": "python",
   "nbconvert_exporter": "python",
   "pygments_lexer": "ipython3",
   "version": "3.7.5"
  }
 },
 "nbformat": 4,
 "nbformat_minor": 4
}
