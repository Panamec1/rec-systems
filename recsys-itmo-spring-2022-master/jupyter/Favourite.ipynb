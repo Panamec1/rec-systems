{
 "cells": [
  {
   "cell_type": "code",
   "execution_count": 70,
   "metadata": {
    "tags": []
   },
   "outputs": [],
   "source": [
    "import pandas as pd\n",
    "import numpy as np\n",
    "\n",
    "\n",
    "import json\n",
    "import random\n",
    "\n",
    "import json\n",
    "\n",
    "np.random.seed(31337)\n",
    "\n",
    "import warnings\n",
    "warnings.filterwarnings('ignore')"
   ]
  },
  {
   "cell_type": "code",
   "execution_count": 71,
   "metadata": {},
   "outputs": [
    {
     "data": {
      "text/html": [
       "<div>\n",
       "<style scoped>\n",
       "    .dataframe tbody tr th:only-of-type {\n",
       "        vertical-align: middle;\n",
       "    }\n",
       "\n",
       "    .dataframe tbody tr th {\n",
       "        vertical-align: top;\n",
       "    }\n",
       "\n",
       "    .dataframe thead th {\n",
       "        text-align: right;\n",
       "    }\n",
       "</style>\n",
       "<table border=\"1\" class=\"dataframe\">\n",
       "  <thead>\n",
       "    <tr style=\"text-align: right;\">\n",
       "      <th></th>\n",
       "      <th>message</th>\n",
       "      <th>timestamp</th>\n",
       "      <th>user</th>\n",
       "      <th>track</th>\n",
       "      <th>time</th>\n",
       "      <th>latency</th>\n",
       "      <th>recommendation</th>\n",
       "      <th>experiments</th>\n",
       "      <th>rnd</th>\n",
       "    </tr>\n",
       "  </thead>\n",
       "  <tbody>\n",
       "    <tr>\n",
       "      <th>0</th>\n",
       "      <td>next</td>\n",
       "      <td>2022-02-28 08:57:07.615</td>\n",
       "      <td>3255</td>\n",
       "      <td>2659</td>\n",
       "      <td>1.00</td>\n",
       "      <td>0.000844</td>\n",
       "      <td>37339.0</td>\n",
       "      <td>{'AA': 'C'}</td>\n",
       "      <td>0.721852</td>\n",
       "    </tr>\n",
       "    <tr>\n",
       "      <th>1</th>\n",
       "      <td>next</td>\n",
       "      <td>2022-02-28 08:57:07.623</td>\n",
       "      <td>3255</td>\n",
       "      <td>37339</td>\n",
       "      <td>0.19</td>\n",
       "      <td>0.000575</td>\n",
       "      <td>716.0</td>\n",
       "      <td>{'AA': 'C'}</td>\n",
       "      <td>0.966441</td>\n",
       "    </tr>\n",
       "    <tr>\n",
       "      <th>2</th>\n",
       "      <td>next</td>\n",
       "      <td>2022-02-28 08:57:07.632</td>\n",
       "      <td>3255</td>\n",
       "      <td>716</td>\n",
       "      <td>0.09</td>\n",
       "      <td>0.000542</td>\n",
       "      <td>47125.0</td>\n",
       "      <td>{'AA': 'C'}</td>\n",
       "      <td>0.289049</td>\n",
       "    </tr>\n",
       "    <tr>\n",
       "      <th>3</th>\n",
       "      <td>next</td>\n",
       "      <td>2022-02-28 08:57:07.639</td>\n",
       "      <td>3255</td>\n",
       "      <td>47125</td>\n",
       "      <td>0.01</td>\n",
       "      <td>0.000591</td>\n",
       "      <td>22144.0</td>\n",
       "      <td>{'AA': 'C'}</td>\n",
       "      <td>0.171346</td>\n",
       "    </tr>\n",
       "    <tr>\n",
       "      <th>4</th>\n",
       "      <td>next</td>\n",
       "      <td>2022-02-28 08:57:07.646</td>\n",
       "      <td>3255</td>\n",
       "      <td>22144</td>\n",
       "      <td>0.03</td>\n",
       "      <td>0.000538</td>\n",
       "      <td>33057.0</td>\n",
       "      <td>{'AA': 'C'}</td>\n",
       "      <td>0.371618</td>\n",
       "    </tr>\n",
       "  </tbody>\n",
       "</table>\n",
       "</div>"
      ],
      "text/plain": [
       "  message               timestamp  user  track  time   latency  \\\n",
       "0    next 2022-02-28 08:57:07.615  3255   2659  1.00  0.000844   \n",
       "1    next 2022-02-28 08:57:07.623  3255  37339  0.19  0.000575   \n",
       "2    next 2022-02-28 08:57:07.632  3255    716  0.09  0.000542   \n",
       "3    next 2022-02-28 08:57:07.639  3255  47125  0.01  0.000591   \n",
       "4    next 2022-02-28 08:57:07.646  3255  22144  0.03  0.000538   \n",
       "\n",
       "   recommendation  experiments       rnd  \n",
       "0         37339.0  {'AA': 'C'}  0.721852  \n",
       "1           716.0  {'AA': 'C'}  0.966441  \n",
       "2         47125.0  {'AA': 'C'}  0.289049  \n",
       "3         22144.0  {'AA': 'C'}  0.171346  \n",
       "4         33057.0  {'AA': 'C'}  0.371618  "
      ]
     },
     "execution_count": 71,
     "metadata": {},
     "output_type": "execute_result"
    }
   ],
   "source": [
    "data = pd.read_json(\"/Users/User/Desktop/seminar-2-data.json\", lines=True)\n",
    "data[\"rnd\"] = np.random.random(len(data))\n",
    "\n",
    "data.head()"
   ]
  },
  {
   "cell_type": "code",
   "execution_count": 72,
   "metadata": {
    "tags": []
   },
   "outputs": [
    {
     "data": {
      "text/html": [
       "<div>\n",
       "<style scoped>\n",
       "    .dataframe tbody tr th:only-of-type {\n",
       "        vertical-align: middle;\n",
       "    }\n",
       "\n",
       "    .dataframe tbody tr th {\n",
       "        vertical-align: top;\n",
       "    }\n",
       "\n",
       "    .dataframe thead th {\n",
       "        text-align: right;\n",
       "    }\n",
       "</style>\n",
       "<table border=\"1\" class=\"dataframe\">\n",
       "  <thead>\n",
       "    <tr style=\"text-align: right;\">\n",
       "      <th></th>\n",
       "      <th>track</th>\n",
       "      <th>time</th>\n",
       "    </tr>\n",
       "  </thead>\n",
       "  <tbody>\n",
       "    <tr>\n",
       "      <th>0</th>\n",
       "      <td>246</td>\n",
       "      <td>26.00</td>\n",
       "    </tr>\n",
       "    <tr>\n",
       "      <th>1</th>\n",
       "      <td>171</td>\n",
       "      <td>25.00</td>\n",
       "    </tr>\n",
       "    <tr>\n",
       "      <th>2</th>\n",
       "      <td>7585</td>\n",
       "      <td>23.00</td>\n",
       "    </tr>\n",
       "    <tr>\n",
       "      <th>3</th>\n",
       "      <td>176</td>\n",
       "      <td>20.00</td>\n",
       "    </tr>\n",
       "    <tr>\n",
       "      <th>4</th>\n",
       "      <td>177</td>\n",
       "      <td>19.04</td>\n",
       "    </tr>\n",
       "  </tbody>\n",
       "</table>\n",
       "</div>"
      ],
      "text/plain": [
       "   track   time\n",
       "0    246  26.00\n",
       "1    171  25.00\n",
       "2   7585  23.00\n",
       "3    176  20.00\n",
       "4    177  19.04"
      ]
     },
     "execution_count": 72,
     "metadata": {},
     "output_type": "execute_result"
    }
   ],
   "source": [
    "track_popularity = (\n",
    "    data[data[\"rnd\"] > 0.5]\n",
    "    .groupby(\"track\")[\"time\"]\n",
    "    .sum()\n",
    "    .to_frame()\n",
    "    .sort_values(\"time\", ascending=False)\n",
    "    .reset_index()\n",
    ")\n",
    "\n",
    "track_popularity.head()"
   ]
  },
  {
   "cell_type": "code",
   "execution_count": 73,
   "metadata": {},
   "outputs": [],
   "source": [
    "s = pd.read_json(\"/Users/User/Desktop/tracks.json\", lines=True)[\"artist\"].tolist()"
   ]
  },
  {
   "cell_type": "code",
   "execution_count": 74,
   "metadata": {},
   "outputs": [
    {
     "name": "stdout",
     "output_type": "stream",
     "text": [
      "{'J. Karjalainen & Mustat Lasit': 26.0, 'OneRepublic': 25.0, 'Frumpies': 23.0, 'Train': 32.43, 'Usher featuring will.i.am': 19.04, 'Soltero': 91.58000000000001, 'Coldplay': 80.77, 'Björk': 17.0, 'Taylor Swift': 39.92999999999999, 'Paramore': 16.56, 'Bill Withers': 16.0, 'Three Drives': 15.01, 'Erin McKeown': 14.0, 'Tub Ring': 14.0, 'Alliance Ethnik': 26.15, 'Charttraxx Karaoke': 13.05, 'Emmy The Great': 13.01, 'Eminem': 31.25, 'Sean Kingston and Justin Bieber': 13.0, 'Dwight Yoakam': 12.0, 'Justin Bieber': 54.349999999999994, 'Barry Tuckwell/Academy of St Martin-in-the-Fields/Sir Neville Marriner': 11.0, 'Lil Wayne / Eminem': 10.870000000000001, 'Jason Mraz & Colbie Caillat': 10.67, 'Jack Johnson': 25.02, 'Iration': 10.0, 'Tab Benoit': 10.0, 'Skream': 10.0, 'Roadrunner United': 10.0, 'Radiohead': 35.87, 'Daft Punk': 10.0, 'Tiny Vipers': 9.77, 'Bruce Dickinson': 9.14, 'John Mayer': 32.08, 'MSTRKRFT': 17.049999999999997, 'O.G.C.': 9.02, 'Florence + The Machine': 16.02, 'Muse': 30.959999999999997, 'Nickelback': 8.82, 'Linkin Park': 15.16, 'Boys Noize': 8.14, 'Rise Against': 8.12, 'Travie McCoy': 8.1, \"Guns N' Roses\": 22.07, 'Green Day': 8.0, 'Bon Jovi': 8.0, 'Creedence Clearwater Revival': 23.0, 'Base Ball Bear': 8.0, 'Cage The Elephant': 15.99, 'Air France': 16.0, 'Alicia Keys': 8.0, 'Kings Of Leon': 8.0, 'Jason Derulo': 8.0, 'Deep Blue Something': 8.0, 'Rihanna': 14.8, 'Cradle Of Filth': 7.77, 'The Notorious B.I.G.': 7.41, 'Lonnie Gordon': 7.36, 'Kid Cudi / Billy Craven': 7.32, 'DJ Dizzy': 7.3100000000000005, 'The Smiths': 7.18, 'The All-American Rejects': 7.09, 'The Blizzard': 7.04, \"Lady GaGa / Colby O'Donis\": 7.03, 'MGMT': 7.01, 'Owl City': 7.01, 'The Human League': 7.01, 'Valerio Scanu': 7.01, 'The Black Keys': 7.01, 'Eminem / Nate Dogg': 7.0, 'Nirvana': 7.0, 'Justin Bieber / Jessica Jarrell': 7.0, 'Eminem / Dina Rae': 7.0, 'Eric Prydz': 7.0, 'Black Eyed Peas': 7.0, 'MC Hammer': 7.0, 'Beastie Boys': 7.0, 'Cartola': 7.0, 'Charlie Louvin': 7.0, 'Todd Barry': 7.0, 'Weezer': 7.0, 'Alaska Y Dinarama': 7.0, 'B.o.B': 7.0, 'Five Iron Frenzy': 7.0}\n"
     ]
    }
   ],
   "source": [
    "sigers={}\n",
    "ti = track_popularity[\"time\"].tolist()\n",
    "tr = track_popularity[\"track\"].tolist()\n",
    "for i in range(0,1000):\n",
    "    if ti[i]<7:\n",
    "        break\n",
    "    #print(tr[i])\n",
    "    #print(s[tr[i]])\n",
    "    sin = s[tr[i]]\n",
    "    if sin in sigers:\n",
    "        sigers[sin]+=ti[i]\n",
    "    else:\n",
    "        sigers[sin]=ti[i]\n",
    "print(sigers)"
   ]
  },
  {
   "cell_type": "code",
   "execution_count": 75,
   "metadata": {},
   "outputs": [
    {
     "name": "stdout",
     "output_type": "stream",
     "text": [
      "{'Soltero': 91.58000000000001, 'Coldplay': 80.77, 'Justin Bieber': 54.349999999999994, 'Taylor Swift': 39.92999999999999, 'Radiohead': 35.87, 'Train': 32.43, 'John Mayer': 32.08, 'Eminem': 31.25, 'Muse': 30.959999999999997, 'Alliance Ethnik': 26.15, 'J. Karjalainen & Mustat Lasit': 26.0, 'Jack Johnson': 25.02, 'OneRepublic': 25.0, 'Frumpies': 23.0, 'Creedence Clearwater Revival': 23.0, \"Guns N' Roses\": 22.07, 'Usher featuring will.i.am': 19.04, 'MSTRKRFT': 17.049999999999997, 'Björk': 17.0, 'Paramore': 16.56, 'Florence + The Machine': 16.02, 'Bill Withers': 16.0, 'Air France': 16.0, 'Cage The Elephant': 15.99, 'Linkin Park': 15.16, 'Three Drives': 15.01, 'Rihanna': 14.8, 'Erin McKeown': 14.0, 'Tub Ring': 14.0, 'Charttraxx Karaoke': 13.05, 'Emmy The Great': 13.01, 'Sean Kingston and Justin Bieber': 13.0, 'Dwight Yoakam': 12.0, 'Barry Tuckwell/Academy of St Martin-in-the-Fields/Sir Neville Marriner': 11.0, 'Lil Wayne / Eminem': 10.870000000000001, 'Jason Mraz & Colbie Caillat': 10.67, 'Iration': 10.0, 'Tab Benoit': 10.0, 'Skream': 10.0, 'Roadrunner United': 10.0, 'Daft Punk': 10.0, 'Tiny Vipers': 9.77, 'Bruce Dickinson': 9.14, 'O.G.C.': 9.02, 'Nickelback': 8.82, 'Boys Noize': 8.14, 'Rise Against': 8.12, 'Travie McCoy': 8.1, 'Green Day': 8.0, 'Bon Jovi': 8.0, 'Base Ball Bear': 8.0, 'Alicia Keys': 8.0, 'Kings Of Leon': 8.0, 'Jason Derulo': 8.0, 'Deep Blue Something': 8.0, 'Cradle Of Filth': 7.77, 'The Notorious B.I.G.': 7.41, 'Lonnie Gordon': 7.36, 'Kid Cudi / Billy Craven': 7.32, 'DJ Dizzy': 7.3100000000000005, 'The Smiths': 7.18, 'The All-American Rejects': 7.09, 'The Blizzard': 7.04, \"Lady GaGa / Colby O'Donis\": 7.03, 'MGMT': 7.01, 'Owl City': 7.01, 'The Human League': 7.01, 'Valerio Scanu': 7.01, 'The Black Keys': 7.01, 'Eminem / Nate Dogg': 7.0, 'Nirvana': 7.0, 'Justin Bieber / Jessica Jarrell': 7.0, 'Eminem / Dina Rae': 7.0, 'Eric Prydz': 7.0, 'Black Eyed Peas': 7.0, 'MC Hammer': 7.0, 'Beastie Boys': 7.0, 'Cartola': 7.0, 'Charlie Louvin': 7.0, 'Todd Barry': 7.0, 'Weezer': 7.0, 'Alaska Y Dinarama': 7.0, 'B.o.B': 7.0, 'Five Iron Frenzy': 7.0}\n"
     ]
    }
   ],
   "source": [
    "d = {k: sigers[k] for k in sorted(sigers, key=sigers.get, reverse=True)}\n",
    "print(d)"
   ]
  },
  {
   "cell_type": "code",
   "execution_count": 76,
   "metadata": {},
   "outputs": [
    {
     "name": "stdout",
     "output_type": "stream",
     "text": [
      "['Soltero', 'Coldplay', 'Justin Bieber', 'Taylor Swift', 'Radiohead', 'Train', 'John Mayer', 'Eminem', 'Muse', 'Alliance Ethnik', 'J. Karjalainen & Mustat Lasit', 'Jack Johnson', 'OneRepublic', 'Frumpies', 'Creedence Clearwater Revival', \"Guns N' Roses\", 'Usher featuring will.i.am', 'MSTRKRFT', 'Björk', 'Paramore', 'Florence + The Machine', 'Bill Withers', 'Air France', 'Cage The Elephant', 'Linkin Park', 'Three Drives', 'Rihanna', 'Erin McKeown', 'Tub Ring', 'Charttraxx Karaoke', 'Emmy The Great', 'Sean Kingston and Justin Bieber', 'Dwight Yoakam', 'Barry Tuckwell/Academy of St Martin-in-the-Fields/Sir Neville Marriner', 'Lil Wayne / Eminem', 'Jason Mraz & Colbie Caillat', 'Iration', 'Tab Benoit', 'Skream', 'Roadrunner United', 'Daft Punk', 'Tiny Vipers', 'Bruce Dickinson', 'O.G.C.', 'Nickelback', 'Boys Noize', 'Rise Against', 'Travie McCoy', 'Green Day', 'Bon Jovi', 'Base Ball Bear', 'Alicia Keys', 'Kings Of Leon', 'Jason Derulo', 'Deep Blue Something', 'Cradle Of Filth', 'The Notorious B.I.G.', 'Lonnie Gordon', 'Kid Cudi / Billy Craven', 'DJ Dizzy', 'The Smiths', 'The All-American Rejects', 'The Blizzard', \"Lady GaGa / Colby O'Donis\", 'MGMT', 'Owl City', 'The Human League', 'Valerio Scanu', 'The Black Keys', 'Eminem / Nate Dogg', 'Nirvana', 'Justin Bieber / Jessica Jarrell', 'Eminem / Dina Rae', 'Eric Prydz', 'Black Eyed Peas', 'MC Hammer', 'Beastie Boys', 'Cartola', 'Charlie Louvin', 'Todd Barry', 'Weezer', 'Alaska Y Dinarama', 'B.o.B', 'Five Iron Frenzy']\n"
     ]
    }
   ],
   "source": [
    "first_column = list(d.keys())\n",
    "print(first_column)"
   ]
  },
  {
   "cell_type": "code",
   "execution_count": 77,
   "metadata": {
    "tags": []
   },
   "outputs": [],
   "source": [
    "tracks = track_popularity[\"track\"].tolist()"
   ]
  },
  {
   "cell_type": "code",
   "execution_count": 78,
   "metadata": {},
   "outputs": [],
   "source": [
    "with open(\"/Users/User/Desktop/bestSingers.json\", \"w\") as top_tracks_file:\n",
    "    json.dump(first_column, top_tracks_file)"
   ]
  },
  {
   "cell_type": "code",
   "execution_count": null,
   "metadata": {},
   "outputs": [],
   "source": []
  }
 ],
 "metadata": {
  "kernelspec": {
   "display_name": "Python 3 (ipykernel)",
   "language": "python",
   "name": "python3"
  },
  "language_info": {
   "codemirror_mode": {
    "name": "ipython",
    "version": 3
   },
   "file_extension": ".py",
   "mimetype": "text/x-python",
   "name": "python",
   "nbconvert_exporter": "python",
   "pygments_lexer": "ipython3",
   "version": "3.7.4"
  }
 },
 "nbformat": 4,
 "nbformat_minor": 4
}
